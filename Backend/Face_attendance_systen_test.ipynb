{
 "cells": [
  {
   "cell_type": "markdown",
   "id": "b2e77f32",
   "metadata": {},
   "source": [
    "# Face Attendance System Test-file"
   ]
  },
  {
   "cell_type": "markdown",
   "id": "d5dd23b4",
   "metadata": {},
   "source": [
    "##  Generate Known faces & labels"
   ]
  },
  {
   "cell_type": "code",
   "execution_count": 9,
   "id": "517ba35a",
   "metadata": {},
   "outputs": [
    {
     "name": "stdout",
     "output_type": "stream",
     "text": [
      "'known_face_labels.npy' & 'known_face_encodings.npy' generated successfully .....\n"
     ]
    }
   ],
   "source": [
    "## generate.py\n",
    "\n",
    "\"\"\"NOTE:\n",
    "    - Collect images with labels in it\n",
    "    - store them to Input_images folder\n",
    "    - Run generate.py to create known faces-encoding & label for further process\n",
    "\"\"\"\n",
    "\n",
    "import cv2\n",
    "import numpy as np\n",
    "import os\n",
    "import face_recognition as fr\n",
    "\n",
    "\n",
    "def generate(path):\n",
    "    \"\"\" Takes images-path(with names) & makes known-face database(extracts labels from image , extract faces encodings) & Also stores labels & face-encodings to '.npy' file \"\"\"\n",
    "    labels, encodings = [], []\n",
    "\n",
    "    if len(os.listdir(path)) != 0:\n",
    "        # print(\"Found {} images \")\n",
    "        for image in os.listdir(path):\n",
    "            if image.endswith(\".jpg\") or image.endswith(\".png\"):\n",
    "                img = cv2.imread(os.path.join(path, image))\n",
    "                img = cv2.cvtColor(img, cv2.COLOR_BGR2RGB)  # BGR to RGB channel format\n",
    "                encode = fr.face_encodings(img)[0]  # extract face encodings from image\n",
    "                encodings.append(encode)\n",
    "                labels.append(os.path.splitext(image)[0])  # list of known-labels\n",
    "\n",
    "        ## convert & store, names & face encodings to \".npy\"\n",
    "        np.save(r\"D:\\Projects\\face attendance system\\Backend\\known_faces_database\\known_face_encodings.npy\", encodings)\n",
    "        np.save(r\"D:\\Projects\\face attendance system\\Backend\\known_faces_database\\known_face_labels.npy\", labels)\n",
    "        print(\"'known_face_labels.npy' & 'known_face_encodings.npy' generated successfully .....\")\n",
    "\n",
    "    elif len(os.listdir(path)) == 0:\n",
    "        print(\"Please Ensure that, you have some images to Process !!!!\")\n",
    "\n",
    "\n",
    "path = r\"D:\\Projects\\face attendance system\\Input_images\"\n",
    "generate(path)\n"
   ]
  },
  {
   "cell_type": "markdown",
   "id": "55cba8e6",
   "metadata": {},
   "source": [
    "## Utils.py test  "
   ]
  },
  {
   "cell_type": "code",
   "execution_count": 3,
   "id": "321ff5af",
   "metadata": {},
   "outputs": [
    {
     "name": "stdout",
     "output_type": "stream",
     "text": [
      "Jeff Bezos Already added\n"
     ]
    }
   ],
   "source": [
    "# Backend\\\\util_functions\\\\utils.py\n",
    "\n",
    "import datetime,calendar\n",
    "import pandas as pd\n",
    "import numpy as np\n",
    "import os\n",
    "\n",
    "def base_df(names_list,today,current_month_yr,csv_out_path):\n",
    "    \"\"\" Takes Names list ; creates all columns for that month-csv \"\"\"\n",
    "    day, row, num_days = 1, [], calendar.monthrange(today.year, today.month)[1]\n",
    "    \n",
    "    for i in range(num_days):\n",
    "        d = \"0\" + str(day) if len(str(day)) == 1 else str(day)  # if 1:'01'; 17:'17'\n",
    "        row.append(d + \"-\" + current_month_yr)\n",
    "        day += 1\n",
    "\n",
    "    \"\"\" generates static df with name & day-wise column(default 0) \"\"\"\n",
    "    df = pd.DataFrame(0, columns=names_list, index=row)\n",
    "    df.to_csv(csv_out_path, index=True)\n",
    "    print(\"CSV created @ \", csv_out_path)\n",
    "    #return df\n",
    "##\n",
    "# base_df(names_list,today,current_month_yr,csv_out_path)\n",
    "\n",
    "\n",
    "\n",
    "def data_entry_verifier(df,name,names_list,threshold_in_time):\n",
    "    \"\"\" Takes [name] , name , today & now; to apped data \"\"\"\n",
    "    name = name.title()\n",
    "    row = datetime.datetime.today().day-1  # today's day as Row_id\n",
    "    col = names_list.index(name)+1  # Name index as Col_id\n",
    "\n",
    "    # ### Entry if person in-time & no duplicate entry allowed\n",
    "    if datetime.datetime.now().time() <= threshold_in_time.time():  # if now <= threshold\n",
    "        if df.iloc[row, col] == \"0\" or df.iloc[row, col] == 0:  # if in-time not-there then add (no duplicate data entry)\n",
    "            now=datetime.datetime.now().strftime('%H:%M:%S')\n",
    "            df.iloc[row, col] = now   # Append In-time in (row,col)\n",
    "            print(\"Added {} @ {} !!!\".format(name, now))\n",
    "        else:\n",
    "            print(\"{} Already added\".format(name))\n",
    "    elif datetime.datetime.now().time() > threshold_in_time.time():\n",
    "        print(\"You are late !!!\")\n",
    "##\n",
    "#data_entry_verifier(df,\"Mark\",names_list,threshold_in_time)\n",
    "\n",
    "\n",
    "\n",
    "def csv_writer(name,threshold_in_time):\n",
    "    \n",
    "    ## parameters\n",
    "    names_list = np.load(r\"D:\\Projects\\face attendance system\\Backend\\known_faces_database\\known_face_labels.npy\").tolist()\n",
    "    names_list = [i.title() for i in names_list]\n",
    "\n",
    "    today = datetime.datetime.today()\n",
    "    current_month_yr = today.strftime(\"%b-%Y\")              # current month & year (eg- \"May-2022\" )\n",
    "    threshold_in_time=threshold_in_time\n",
    "    out_csv_name = current_month_yr + \".csv\"\n",
    "    csv_out_path = os.path.join(r\"D:\\Projects\\face attendance system\\Backend\\database\\master_csv\", out_csv_name)\n",
    "\n",
    "    \n",
    "    \n",
    "    if out_csv_name not in os.listdir(r\"D:\\Projects\\face attendance system\\Backend\\database\\master_csv\"):\n",
    "        base_df(names_list,today,current_month_yr,csv_out_path)    # create base structure for csv\n",
    "        df = pd.read_csv(csv_out_path)\n",
    "        data_entry_verifier(df,name,names_list,threshold_in_time)\n",
    "        df.to_csv(csv_out_path, index=False)\n",
    "    else:\n",
    "        df = pd.read_csv(csv_out_path)\n",
    "        data_entry_verifier(df,name,names_list,threshold_in_time)\n",
    "        df.to_csv(csv_out_path, index=False)\n",
    "\n",
    "##\n",
    "threshold_in_time=datetime.datetime.strptime(\"23:30:00\",'%H:%M:%S')          # threshold In-time\n",
    "csv_writer('Jeff Bezos' , threshold_in_time)"
   ]
  },
  {
   "cell_type": "code",
   "execution_count": 35,
   "id": "b8eee534",
   "metadata": {},
   "outputs": [
    {
     "name": "stdout",
     "output_type": "stream",
     "text": [
      "Added Abdul Kalam @ 12:54:19 !!!\n",
      "Added Barack Obama @ 12:54:20 !!!\n",
      "Added Elon Musk @ 12:54:20 !!!\n",
      "Added Guido Van Rossum @ 12:54:21 !!!\n",
      "Jeff Bezos Already added\n",
      "Added Johnny Depp @ 12:54:22 !!!\n",
      "Added Larry Page @ 12:54:22 !!!\n",
      "Added Leonardo Dicaprio @ 12:54:23 !!!\n",
      "Added Mark @ 12:54:23 !!!\n",
      "Added Satya Nadella @ 12:54:24 !!!\n",
      "Added Sundar Pichai @ 12:54:24 !!!\n",
      "Added Warren Buffett @ 12:54:25 !!!\n"
     ]
    }
   ],
   "source": [
    "## Test on all names\n",
    "import time\n",
    "names_list = np.load(r\"D:\\Projects\\face attendance system\\known_faces_database\\known_face_labels.npy\").tolist()\n",
    "names_list = [i.title() for i in names_list]\n",
    "    \n",
    "for i in names_list:\n",
    "    csv_writer(i, threshold_in_time)\n",
    "    time.sleep(.5)"
   ]
  },
  {
   "cell_type": "markdown",
   "id": "06a3c0eb",
   "metadata": {},
   "source": [
    "## From Images"
   ]
  },
  {
   "cell_type": "code",
   "execution_count": 107,
   "id": "1c7b8c0c",
   "metadata": {},
   "outputs": [
    {
     "name": "stdout",
     "output_type": "stream",
     "text": [
      "Matched With 'Leonardo Dicaprio'\n",
      "Leonardo Dicaprio Already added\n"
     ]
    }
   ],
   "source": [
    "# Backend\\\\main_from_img_dir.py\n",
    "\"\"\"Note:\n",
    "    - Uses image path to Append in Attendance-Sheet \n",
    "\"\"\"\n",
    "\n",
    "import numpy as np\n",
    "import cv2,datetime\n",
    "import face_recognition as fr\n",
    "\n",
    "def get_attendance_from_image(path,threshold_in_time):\n",
    "    \"\"\" Takes Image path => Preprocess => extract-face-encoding => compare with known face encodings => retun match & Append to csv \"\"\"\n",
    "    \n",
    "    # Load Known face-encodings & labels\n",
    "    known_encodings = np.load(r\"D:\\Projects\\face attendance system\\Backend\\known_faces_database\\known_face_encodings.npy\")  # load stored face-encodings\n",
    "    known_labels = np.load(r\"D:\\Projects\\face attendance system\\Backend\\known_faces_database\\known_face_labels.npy\")        # load stored labels\n",
    "\n",
    "    # Preprocess test-image\n",
    "    img=cv2.imread(path)\n",
    "    resized_img = cv2.resize(img, (0, 0), None, 0.5, 0.5)       # resized images\n",
    "    resized_img = cv2.cvtColor(resized_img, cv2.COLOR_BGR2RGB)  # BGR to RGB\n",
    "\n",
    "    # Extract face-encoding from test-image\n",
    "    face_loc = fr.face_locations(resized_img)                    # detect all faces-location in frame\n",
    "    test_face_encode = fr.face_encodings(resized_img, face_loc)  # face encodings on frame\n",
    "\n",
    "\n",
    "    # Compare test-face-encoding with known-face-encoding\n",
    "    for encode_face,face_location in zip(test_face_encode,face_loc):\n",
    "        matches = fr.compare_faces(known_encodings,encode_face)        # compares new-face-encodeing with known-faces-encodings(returns Boolean value for each [label])\n",
    "        face_distance = fr.face_distance(known_encodings,encode_face)  # compares frame face-distance to known-faces-distance\n",
    "        match_id = np.argmin(face_distance)                            # index of best matching label_index\n",
    "\n",
    "        if matches[match_id]:  # If known-face matches to face in frame\n",
    "            name = known_labels[match_id].title()\n",
    "            print(\"Matched With '{}'\".format(name))\n",
    "            csv_writer(name , threshold_in_time)\n",
    "        else:\n",
    "            print(\"No Match Found\")\n",
    "   \n",
    "\n",
    "##\n",
    "test_img_path=r\"D:\\Projects\\face attendance system\\test data\\download (2).jpg\"\n",
    "threshold_in_time=datetime.datetime.strptime(\"23:30:00\",'%H:%M:%S')          # threshold In-time\n",
    "\n",
    "get_attendance_from_image(test_img_path,threshold_in_time)"
   ]
  },
  {
   "cell_type": "markdown",
   "id": "83ba1e7e",
   "metadata": {},
   "source": [
    "## From Webcam\n"
   ]
  },
  {
   "cell_type": "code",
   "execution_count": 4,
   "id": "4a96152b",
   "metadata": {},
   "outputs": [
    {
     "name": "stdout",
     "output_type": "stream",
     "text": [
      "No Match Found\n"
     ]
    }
   ],
   "source": [
    "## Backend\\\\main_from_webcam.py\n",
    "\n",
    "import numpy as np\n",
    "import cv2, datetime\n",
    "import face_recognition as fr\n",
    "\n",
    "# Load Known face-encodings & labels\n",
    "known_encodings = np.load(r\"D:\\Projects\\face attendance system\\Backend\\known_faces_database\\known_face_encodings.npy\")  # load stored face-encodings\n",
    "known_labels = np.load(r\"D:\\Projects\\face attendance system\\Backend\\known_faces_database\\known_face_labels.npy\")        # load stored labels\n",
    "threshold_in_time = datetime.datetime.strptime(\"23:30:00\", '%H:%M:%S')  # threshold In-time\n",
    "\n",
    "## live\n",
    "cap = cv2.VideoCapture(0)\n",
    "\n",
    "while True:\n",
    "    success, img = cap.read()\n",
    "    resized_img = cv2.resize(img, (0, 0), None, 0.5, 0.5)  # resized images\n",
    "    resized_img = cv2.cvtColor(resized_img, cv2.COLOR_BGR2RGB)  # BGR to RGB\n",
    "\n",
    "    # Extract face-encoding from test-image\n",
    "    face_loc = fr.face_locations(resized_img)  # detect all faces-location in frame\n",
    "    test_face_encode = fr.face_encodings(resized_img, face_loc)  # face encodings on frame\n",
    "\n",
    "    # Compare test-face-encoding with known-face-encoding\n",
    "    for encode_face, face_location in zip(test_face_encode, face_loc):\n",
    "        matches = fr.compare_faces(known_encodings,encode_face)  # compares new-face-encodeing with known-faces-encodings(returns Boolean value for each [label])\n",
    "        face_distance = fr.face_distance(known_encodings,encode_face)  # compares frame face-distance to known-faces-distance\n",
    "        match_id = np.argmin(face_distance)  # index of best matching label_index\n",
    "\n",
    "        if matches[match_id]:  # If known-face matches to face in frame\n",
    "            name = known_labels[match_id].title()\n",
    "            print(\"Matched With '{}'\".format(name))\n",
    "            csv_writer(name, threshold_in_time)\n",
    "        else:\n",
    "            print(\"No Match Found\")\n",
    "\n",
    "    cv2.imshow('Output', img)\n",
    "    if cv2.waitKey(1) & 0xFF == ord(\"q\"):\n",
    "        break\n",
    "cap.release()\n",
    "#cv2.destroyAllWindows()\n"
   ]
  },
  {
   "cell_type": "code",
   "execution_count": null,
   "id": "f58e8ba8",
   "metadata": {},
   "outputs": [],
   "source": []
  },
  {
   "cell_type": "code",
   "execution_count": null,
   "id": "37094f19",
   "metadata": {},
   "outputs": [],
   "source": []
  }
 ],
 "metadata": {
  "kernelspec": {
   "display_name": "Python 3",
   "language": "python",
   "name": "python3"
  },
  "language_info": {
   "codemirror_mode": {
    "name": "ipython",
    "version": 3
   },
   "file_extension": ".py",
   "mimetype": "text/x-python",
   "name": "python",
   "nbconvert_exporter": "python",
   "pygments_lexer": "ipython3",
   "version": "3.8.8"
  }
 },
 "nbformat": 4,
 "nbformat_minor": 5
}
